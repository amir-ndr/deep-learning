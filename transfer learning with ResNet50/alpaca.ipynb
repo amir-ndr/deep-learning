{
 "cells": [
  {
   "cell_type": "markdown",
   "metadata": {},
   "source": [
    "## imports"
   ]
  },
  {
   "cell_type": "code",
   "execution_count": 1,
   "metadata": {
    "_cell_guid": "b1076dfc-b9ad-4769-8c92-a6c4dae69d19",
    "_uuid": "8f2839f25d086af736a60e9eeb907d3b93b6e0e5",
    "execution": {
     "iopub.execute_input": "2021-11-13T14:18:42.652176Z",
     "iopub.status.busy": "2021-11-13T14:18:42.651594Z",
     "iopub.status.idle": "2021-11-13T14:18:48.639905Z",
     "shell.execute_reply": "2021-11-13T14:18:48.638889Z",
     "shell.execute_reply.started": "2021-11-13T14:18:42.652025Z"
    }
   },
   "outputs": [],
   "source": [
    "import numpy as np\n",
    "import pandas as pd\n",
    "import matplotlib.pyplot as plt\n",
    "import os\n",
    "from PIL import Image\n",
    "\n",
    "import tensorflow as tf\n",
    "from tensorflow.keras import layers\n",
    "from tensorflow.keras import losses\n",
    "from tensorflow.keras import preprocessing\n",
    "from tensorflow.keras.preprocessing import image\n",
    "from tensorflow.keras.preprocessing.image import ImageDataGenerator,load_img\n",
    "from tensorflow.keras.layers.experimental.preprocessing import RandomFlip, RandomRotation\n",
    "from tensorflow.keras.preprocessing import image_dataset_from_directory\n",
    "\n",
    "from tensorflow.keras.applications.resnet50 import ResNet50\n",
    "from tensorflow.keras.applications.resnet50 import preprocess_input, decode_predictions"
   ]
  },
  {
   "cell_type": "markdown",
   "metadata": {},
   "source": [
    "#### now we create two datasets: train, validation"
   ]
  },
  {
   "cell_type": "code",
   "execution_count": 3,
   "metadata": {
    "execution": {
     "iopub.execute_input": "2021-11-13T14:19:43.484482Z",
     "iopub.status.busy": "2021-11-13T14:19:43.483638Z",
     "iopub.status.idle": "2021-11-13T14:19:43.724969Z",
     "shell.execute_reply": "2021-11-13T14:19:43.724140Z",
     "shell.execute_reply.started": "2021-11-13T14:19:43.484432Z"
    }
   },
   "outputs": [],
   "source": [
    "BATCH_SIZE = 32\n",
    "IMG_SIZE = (160, 160)\n",
    "directory = \"../input/alpaca-dataset-small/dataset\"\n",
    "train_dataset = image_dataset_from_directory(directory,\n",
    "                                             shuffle=True,\n",
    "                                             batch_size=BATCH_SIZE,\n",
    "                                             image_size=IMG_SIZE,\n",
    "                                             validation_split=0.2,\n",
    "                                             subset='training',\n",
    "                                             seed=42)\n",
    "validation_dataset = image_dataset_from_directory(directory,\n",
    "                                             shuffle=True,\n",
    "                                             batch_size=BATCH_SIZE,\n",
    "                                             image_size=IMG_SIZE,\n",
    "                                             validation_split=0.2,\n",
    "                                             subset='validation',\n",
    "                                             seed=42)"
   ]
  },
  {
   "cell_type": "code",
   "execution_count": 4,
   "metadata": {
    "execution": {
     "iopub.execute_input": "2021-11-13T14:19:53.060847Z",
     "iopub.status.busy": "2021-11-13T14:19:53.060577Z",
     "iopub.status.idle": "2021-11-13T14:19:56.186016Z",
     "shell.execute_reply": "2021-11-13T14:19:56.185130Z",
     "shell.execute_reply.started": "2021-11-13T14:19:53.060819Z"
    }
   },
   "outputs": [],
   "source": [
    "class_names = train_dataset.class_names\n",
    "\n",
    "plt.figure(figsize=(10, 10))\n",
    "for images, labels in train_dataset.take(1):\n",
    "    for i in range(9):\n",
    "        ax = plt.subplot(3, 3, i + 1)\n",
    "        plt.imshow(images[i].numpy().astype(\"uint8\"))\n",
    "        plt.title(class_names[labels[i]])\n",
    "        plt.axis(\"off\")"
   ]
  },
  {
   "cell_type": "code",
   "execution_count": 5,
   "metadata": {
    "execution": {
     "iopub.execute_input": "2021-11-13T14:19:56.700612Z",
     "iopub.status.busy": "2021-11-13T14:19:56.700281Z",
     "iopub.status.idle": "2021-11-13T14:19:56.705763Z",
     "shell.execute_reply": "2021-11-13T14:19:56.704916Z",
     "shell.execute_reply.started": "2021-11-13T14:19:56.700579Z"
    }
   },
   "outputs": [],
   "source": [
    "def data_augmenter():\n",
    "\n",
    "    data_augmentation = tf.keras.Sequential()\n",
    "    data_augmentation.add(RandomFlip('horizontal'))\n",
    "    data_augmentation.add(RandomRotation(0.2))\n",
    "    \n",
    "    return data_augmentation"
   ]
  },
  {
   "cell_type": "code",
   "execution_count": 6,
   "metadata": {
    "execution": {
     "iopub.execute_input": "2021-11-13T14:20:25.662697Z",
     "iopub.status.busy": "2021-11-13T14:20:25.662245Z",
     "iopub.status.idle": "2021-11-13T14:20:27.459168Z",
     "shell.execute_reply": "2021-11-13T14:20:27.458408Z",
     "shell.execute_reply.started": "2021-11-13T14:20:25.662664Z"
    }
   },
   "outputs": [],
   "source": [
    "data_augmentation = data_augmenter()\n",
    "\n",
    "for image, _ in train_dataset.take(1):\n",
    "    plt.figure(figsize=(10, 10))\n",
    "    first_image = image[10]\n",
    "    for i in range(9):\n",
    "        ax = plt.subplot(3, 3, i + 1)\n",
    "        augmented_image = data_augmentation(tf.expand_dims(first_image, 0))\n",
    "        plt.imshow(augmented_image[0] / 255)\n",
    "        plt.axis('off')"
   ]
  },
  {
   "cell_type": "code",
   "execution_count": 7,
   "metadata": {
    "execution": {
     "iopub.execute_input": "2021-11-13T14:21:13.023581Z",
     "iopub.status.busy": "2021-11-13T14:21:13.023289Z",
     "iopub.status.idle": "2021-11-13T14:21:16.410508Z",
     "shell.execute_reply": "2021-11-13T14:21:16.409388Z",
     "shell.execute_reply.started": "2021-11-13T14:21:13.023551Z"
    }
   },
   "outputs": [],
   "source": [
    "input_shape = (160,160,3)\n",
    "\n",
    "base_model = ResNet50(input_shape=input_shape,include_top=False,weights='imagenet')\n",
    "\n",
    "base_model.trainable = False \n",
    "\n",
    "inputs = tf.keras.Input(shape=input_shape) \n",
    "x = data_augmenter()(inputs)\n",
    "x = preprocess_input(x)\n",
    "x = base_model(x, training=False) \n",
    "x = layers.GlobalAveragePooling2D()(x) \n",
    "x = layers.Dropout(0.2)(x)\n",
    "outputs = layers.Dense(1)(x)\n",
    "\n",
    "model = tf.keras.Model(inputs, outputs)"
   ]
  },
  {
   "cell_type": "code",
   "execution_count": 8,
   "metadata": {
    "execution": {
     "iopub.execute_input": "2021-11-13T14:21:23.142927Z",
     "iopub.status.busy": "2021-11-13T14:21:23.142620Z",
     "iopub.status.idle": "2021-11-13T14:21:23.158738Z",
     "shell.execute_reply": "2021-11-13T14:21:23.158085Z",
     "shell.execute_reply.started": "2021-11-13T14:21:23.142885Z"
    }
   },
   "outputs": [],
   "source": [
    "base_model2 = model.layers[4]\n",
    "base_model2.trainable = True\n",
    "\n",
    "fine_tune_at = 130\n",
    "\n",
    "for layer in base_model2.layers[:fine_tune_at]:\n",
    "    layer.trainable = False"
   ]
  },
  {
   "cell_type": "code",
   "execution_count": 9,
   "metadata": {
    "execution": {
     "iopub.execute_input": "2021-11-13T14:22:30.676465Z",
     "iopub.status.busy": "2021-11-13T14:22:30.676143Z",
     "iopub.status.idle": "2021-11-13T14:22:30.682326Z",
     "shell.execute_reply": "2021-11-13T14:22:30.681223Z",
     "shell.execute_reply.started": "2021-11-13T14:22:30.676424Z"
    }
   },
   "outputs": [],
   "source": [
    "print(\"Number of layers in the model: \", len(base_model2.layers))"
   ]
  },
  {
   "cell_type": "code",
   "execution_count": 10,
   "metadata": {
    "execution": {
     "iopub.execute_input": "2021-11-13T14:22:33.704514Z",
     "iopub.status.busy": "2021-11-13T14:22:33.704065Z",
     "iopub.status.idle": "2021-11-13T14:22:33.721283Z",
     "shell.execute_reply": "2021-11-13T14:22:33.720670Z",
     "shell.execute_reply.started": "2021-11-13T14:22:33.704458Z"
    }
   },
   "outputs": [],
   "source": [
    "optimizer = tf.keras.optimizers.Adam(learning_rate=0.0001)\n",
    "metrics= ['accuracy']\n",
    "model.compile(loss=tf.keras.losses.BinaryCrossentropy(from_logits=True),\n",
    "              optimizer = optimizer,\n",
    "              metrics=metrics)"
   ]
  },
  {
   "cell_type": "code",
   "execution_count": 11,
   "metadata": {
    "execution": {
     "iopub.execute_input": "2021-11-13T14:22:42.962500Z",
     "iopub.status.busy": "2021-11-13T14:22:42.962072Z",
     "iopub.status.idle": "2021-11-13T14:22:42.967185Z",
     "shell.execute_reply": "2021-11-13T14:22:42.966356Z",
     "shell.execute_reply.started": "2021-11-13T14:22:42.962465Z"
    }
   },
   "outputs": [],
   "source": [
    "Checkpoint_cb = tf.keras.callbacks.ModelCheckpoint(\"save_model.h5\", save_best_only=True)\n",
    "early_stopping = tf.keras.callbacks.EarlyStopping(\n",
    "    patience=10,\n",
    "    min_delta=0.001,\n",
    "    restore_best_weights=True,\n",
    ")\n",
    "\n",
    "callbacks = [Checkpoint_cb, early_stopping]"
   ]
  },
  {
   "cell_type": "code",
   "execution_count": 12,
   "metadata": {
    "execution": {
     "iopub.execute_input": "2021-11-13T14:22:44.501302Z",
     "iopub.status.busy": "2021-11-13T14:22:44.501001Z",
     "iopub.status.idle": "2021-11-13T14:22:44.523900Z",
     "shell.execute_reply": "2021-11-13T14:22:44.523007Z",
     "shell.execute_reply.started": "2021-11-13T14:22:44.501270Z"
    }
   },
   "outputs": [],
   "source": [
    "model.summary()"
   ]
  },
  {
   "cell_type": "code",
   "execution_count": 13,
   "metadata": {
    "execution": {
     "iopub.execute_input": "2021-11-13T14:22:54.065041Z",
     "iopub.status.busy": "2021-11-13T14:22:54.064172Z",
     "iopub.status.idle": "2021-11-13T14:31:05.575012Z",
     "shell.execute_reply": "2021-11-13T14:31:05.573895Z",
     "shell.execute_reply.started": "2021-11-13T14:22:54.065000Z"
    }
   },
   "outputs": [],
   "source": [
    "initial_epochs = 20\n",
    "history = model.fit(train_dataset, validation_data=validation_dataset, epochs=initial_epochs, callbacks=callbacks)"
   ]
  },
  {
   "cell_type": "code",
   "execution_count": 14,
   "metadata": {
    "execution": {
     "iopub.execute_input": "2021-11-13T14:31:16.028805Z",
     "iopub.status.busy": "2021-11-13T14:31:16.027784Z",
     "iopub.status.idle": "2021-11-13T14:31:16.595373Z",
     "shell.execute_reply": "2021-11-13T14:31:16.594479Z",
     "shell.execute_reply.started": "2021-11-13T14:31:16.028753Z"
    }
   },
   "outputs": [],
   "source": [
    "history_df = pd.DataFrame(history.history)\n",
    "history_df.loc[:, ['loss', 'val_loss']].plot()\n",
    "history_df.loc[:, ['accuracy', 'val_accuracy']].plot()"
   ]
  },
  {
   "cell_type": "code",
   "execution_count": 15,
   "metadata": {
    "execution": {
     "iopub.execute_input": "2021-11-13T14:32:07.415766Z",
     "iopub.status.busy": "2021-11-13T14:32:07.415339Z",
     "iopub.status.idle": "2021-11-13T14:32:07.634570Z",
     "shell.execute_reply": "2021-11-13T14:32:07.633669Z",
     "shell.execute_reply.started": "2021-11-13T14:32:07.415732Z"
    }
   },
   "outputs": [],
   "source": [
    "model.load_weights('save_model.h5')"
   ]
  },
  {
   "cell_type": "code",
   "execution_count": 16,
   "metadata": {
    "execution": {
     "iopub.execute_input": "2021-11-13T14:32:24.015417Z",
     "iopub.status.busy": "2021-11-13T14:32:24.015002Z",
     "iopub.status.idle": "2021-11-13T14:32:26.621754Z",
     "shell.execute_reply": "2021-11-13T14:32:26.621151Z",
     "shell.execute_reply.started": "2021-11-13T14:32:24.015377Z"
    }
   },
   "outputs": [],
   "source": [
    "model.evaluate(validation_dataset)"
   ]
  }
 ],
 "metadata": {
  "kernelspec": {
   "display_name": "Python 3",
   "language": "python",
   "name": "python3"
  },
  "language_info": {
   "codemirror_mode": {
    "name": "ipython",
    "version": 3
   },
   "file_extension": ".py",
   "mimetype": "text/x-python",
   "name": "python",
   "nbconvert_exporter": "python",
   "pygments_lexer": "ipython3",
   "version": "3.7.4"
  }
 },
 "nbformat": 4,
 "nbformat_minor": 4
}
