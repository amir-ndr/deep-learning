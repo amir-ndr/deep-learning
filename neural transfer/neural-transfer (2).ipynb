{
 "cells": [
  {
   "cell_type": "code",
   "execution_count": 1,
   "metadata": {
    "execution": {
     "iopub.execute_input": "2021-11-21T12:08:47.755568Z",
     "iopub.status.busy": "2021-11-21T12:08:47.755293Z",
     "iopub.status.idle": "2021-11-21T12:08:51.843100Z",
     "shell.execute_reply": "2021-11-21T12:08:51.842162Z",
     "shell.execute_reply.started": "2021-11-21T12:08:47.755493Z"
    }
   },
   "outputs": [],
   "source": [
    "import os\n",
    "import sys\n",
    "import scipy.io\n",
    "import scipy.misc\n",
    "import matplotlib.pyplot as plt\n",
    "from PIL import Image\n",
    "import numpy as np\n",
    "import tensorflow as tf\n",
    "from tensorflow.python.framework.ops import EagerTensor\n",
    "%matplotlib inline"
   ]
  },
  {
   "cell_type": "code",
   "execution_count": 3,
   "metadata": {
    "execution": {
     "iopub.execute_input": "2021-11-21T12:09:33.777388Z",
     "iopub.status.busy": "2021-11-21T12:09:33.777090Z",
     "iopub.status.idle": "2021-11-21T12:09:35.856494Z",
     "shell.execute_reply": "2021-11-21T12:09:35.855678Z",
     "shell.execute_reply.started": "2021-11-21T12:09:33.777350Z"
    }
   },
   "outputs": [],
   "source": [
    "tf.random.set_seed(272)\n",
    "img_size = 400\n",
    "vgg = tf.keras.applications.VGG19(include_top=False,\n",
    "                                  input_shape=(img_size, img_size, 3),\n",
    "                                  weights='../input/artneural/model/vgg19_weights_tf_dim_ordering_tf_kernels_notop.h5')\n",
    "\n",
    "vgg.trainable = False"
   ]
  },
  {
   "cell_type": "code",
   "execution_count": 4,
   "metadata": {
    "execution": {
     "iopub.execute_input": "2021-11-21T12:10:25.977927Z",
     "iopub.status.busy": "2021-11-21T12:10:25.977205Z",
     "iopub.status.idle": "2021-11-21T12:10:25.998024Z",
     "shell.execute_reply": "2021-11-21T12:10:25.997320Z",
     "shell.execute_reply.started": "2021-11-21T12:10:25.977887Z"
    }
   },
   "outputs": [],
   "source": [
    "vgg.summary()"
   ]
  },
  {
   "cell_type": "code",
   "execution_count": 5,
   "metadata": {
    "execution": {
     "iopub.execute_input": "2021-11-21T12:10:28.888735Z",
     "iopub.status.busy": "2021-11-21T12:10:28.888070Z",
     "iopub.status.idle": "2021-11-21T12:10:29.131440Z",
     "shell.execute_reply": "2021-11-21T12:10:29.130715Z",
     "shell.execute_reply.started": "2021-11-21T12:10:28.888694Z"
    }
   },
   "outputs": [],
   "source": [
    "content_path = \"../input/artneural/content/louvre.jpg\"\n",
    "content_image = Image.open(content_path)\n",
    "content_image"
   ]
  },
  {
   "cell_type": "code",
   "execution_count": 6,
   "metadata": {
    "execution": {
     "iopub.execute_input": "2021-11-21T12:10:42.327280Z",
     "iopub.status.busy": "2021-11-21T12:10:42.326736Z",
     "iopub.status.idle": "2021-11-21T12:10:42.333644Z",
     "shell.execute_reply": "2021-11-21T12:10:42.332893Z",
     "shell.execute_reply.started": "2021-11-21T12:10:42.327241Z"
    }
   },
   "outputs": [],
   "source": [
    "def compute_content_cost(content_output, generated_output):\n",
    "\n",
    "    a_C = content_output[-1]\n",
    "    a_G = generated_output[-1]\n",
    "\n",
    "    m, n_H, n_W, n_C = a_G.get_shape().as_list()\n",
    "    \n",
    "    a_C_unrolled = tf.reshape(a_C, [m, -1, n_C])\n",
    "    a_G_unrolled = tf.reshape(a_G, [m, -1, n_C])\n",
    "    \n",
    "    J_content = (.25 / float(int(n_H * n_W * n_C))) * tf.reduce_sum(tf.square(tf.subtract(a_G_unrolled , a_C_unrolled)))\n",
    "    \n",
    "    return J_content"
   ]
  },
  {
   "cell_type": "code",
   "execution_count": 7,
   "metadata": {
    "execution": {
     "iopub.execute_input": "2021-11-21T12:10:43.448316Z",
     "iopub.status.busy": "2021-11-21T12:10:43.448007Z",
     "iopub.status.idle": "2021-11-21T12:10:43.504037Z",
     "shell.execute_reply": "2021-11-21T12:10:43.503281Z",
     "shell.execute_reply.started": "2021-11-21T12:10:43.448287Z"
    }
   },
   "outputs": [],
   "source": [
    "style_path = \"../input/artneural/style/starry-night.jpg\"\n",
    "style = Image.open(style_path)\n",
    "style"
   ]
  },
  {
   "cell_type": "code",
   "execution_count": 8,
   "metadata": {
    "execution": {
     "iopub.execute_input": "2021-11-21T12:10:50.937992Z",
     "iopub.status.busy": "2021-11-21T12:10:50.937730Z",
     "iopub.status.idle": "2021-11-21T12:10:50.942290Z",
     "shell.execute_reply": "2021-11-21T12:10:50.941622Z",
     "shell.execute_reply.started": "2021-11-21T12:10:50.937963Z"
    }
   },
   "outputs": [],
   "source": [
    "def gram_matrix(A):\n",
    "    GA = tf.matmul(A, tf.transpose(A))\n",
    "    return GA"
   ]
  },
  {
   "cell_type": "code",
   "execution_count": 9,
   "metadata": {
    "execution": {
     "iopub.execute_input": "2021-11-21T12:11:03.427102Z",
     "iopub.status.busy": "2021-11-21T12:11:03.426846Z",
     "iopub.status.idle": "2021-11-21T12:11:03.433861Z",
     "shell.execute_reply": "2021-11-21T12:11:03.432757Z",
     "shell.execute_reply.started": "2021-11-21T12:11:03.427074Z"
    }
   },
   "outputs": [],
   "source": [
    "def compute_layer_style_cost(a_S, a_G):\n",
    "\n",
    "    m, n_H, n_W, n_C = a_G.get_shape().as_list()\n",
    "    \n",
    "    a_S = tf.transpose(tf.reshape(a_S, [n_H * n_W, n_C]))\n",
    "    a_G = tf.transpose(tf.reshape(a_G, [n_H * n_W, n_C]))\n",
    "\n",
    "    GS = gram_matrix(a_S)\n",
    "    GG = gram_matrix(a_G)\n",
    "\n",
    "    J_style_layer = ((.5 / (n_H * n_W * n_C)) ** 2) * tf.reduce_sum(tf.square(tf.subtract(GS , GG)))\n",
    "\n",
    "    return J_style_layer"
   ]
  },
  {
   "cell_type": "code",
   "execution_count": 10,
   "metadata": {
    "execution": {
     "iopub.execute_input": "2021-11-21T12:11:04.471561Z",
     "iopub.status.busy": "2021-11-21T12:11:04.470545Z",
     "iopub.status.idle": "2021-11-21T12:11:04.479886Z",
     "shell.execute_reply": "2021-11-21T12:11:04.479103Z",
     "shell.execute_reply.started": "2021-11-21T12:11:04.471510Z"
    }
   },
   "outputs": [],
   "source": [
    "for layer in vgg.layers:\n",
    "    print(layer.name)"
   ]
  },
  {
   "cell_type": "code",
   "execution_count": 12,
   "metadata": {
    "execution": {
     "iopub.execute_input": "2021-11-21T12:11:53.957266Z",
     "iopub.status.busy": "2021-11-21T12:11:53.956538Z",
     "iopub.status.idle": "2021-11-21T12:11:53.962046Z",
     "shell.execute_reply": "2021-11-21T12:11:53.961216Z",
     "shell.execute_reply.started": "2021-11-21T12:11:53.957227Z"
    }
   },
   "outputs": [],
   "source": [
    "STYLE_LAYERS = [\n",
    "    ('block1_conv1', 0.35),\n",
    "    ('block2_conv1', 0.5),\n",
    "    ('block3_conv1', 0.05),\n",
    "    ('block4_conv1', 0.05),\n",
    "    ('block5_conv1', 0.05)\n",
    "]"
   ]
  },
  {
   "cell_type": "code",
   "execution_count": 13,
   "metadata": {
    "execution": {
     "iopub.execute_input": "2021-11-21T12:11:56.368783Z",
     "iopub.status.busy": "2021-11-21T12:11:56.368277Z",
     "iopub.status.idle": "2021-11-21T12:11:56.374085Z",
     "shell.execute_reply": "2021-11-21T12:11:56.373367Z",
     "shell.execute_reply.started": "2021-11-21T12:11:56.368745Z"
    }
   },
   "outputs": [],
   "source": [
    "def compute_style_cost(style_image_output, generated_image_output, STYLE_LAYERS=STYLE_LAYERS):\n",
    "\n",
    "    J_style = 0\n",
    "    a_S = style_image_output[:-1]\n",
    "\n",
    "    a_G = generated_image_output[:-1]\n",
    "    for i, weight in zip(range(len(a_S)), STYLE_LAYERS):  \n",
    "        J_style_layer = compute_layer_style_cost(a_S[i], a_G[i])\n",
    "        J_style += weight[1] * J_style_layer\n",
    "\n",
    "    return J_style"
   ]
  },
  {
   "cell_type": "code",
   "execution_count": 14,
   "metadata": {
    "execution": {
     "iopub.execute_input": "2021-11-21T12:11:57.159534Z",
     "iopub.status.busy": "2021-11-21T12:11:57.158961Z",
     "iopub.status.idle": "2021-11-21T12:11:57.164455Z",
     "shell.execute_reply": "2021-11-21T12:11:57.163470Z",
     "shell.execute_reply.started": "2021-11-21T12:11:57.159493Z"
    }
   },
   "outputs": [],
   "source": [
    "@tf.function()\n",
    "def total_cost(J_content, J_style, alpha = 10, beta = 40):\n",
    "    J = alpha * J_content + beta * J_style\n",
    "    return J"
   ]
  },
  {
   "cell_type": "code",
   "execution_count": 15,
   "metadata": {
    "execution": {
     "iopub.execute_input": "2021-11-21T12:11:58.758866Z",
     "iopub.status.busy": "2021-11-21T12:11:58.758306Z",
     "iopub.status.idle": "2021-11-21T12:11:59.027863Z",
     "shell.execute_reply": "2021-11-21T12:11:59.027110Z",
     "shell.execute_reply.started": "2021-11-21T12:11:58.758826Z"
    }
   },
   "outputs": [],
   "source": [
    "content_image = np.array(Image.open(content_path).resize((img_size, img_size)))\n",
    "content_image = tf.constant(np.expand_dims(content_image,axis=0))\n",
    "\n",
    "print(content_image.shape)\n",
    "plt.imshow(content_image[0])\n",
    "plt.show()"
   ]
  },
  {
   "cell_type": "code",
   "execution_count": 16,
   "metadata": {
    "execution": {
     "iopub.execute_input": "2021-11-21T12:12:01.320065Z",
     "iopub.status.busy": "2021-11-21T12:12:01.319323Z",
     "iopub.status.idle": "2021-11-21T12:12:01.545705Z",
     "shell.execute_reply": "2021-11-21T12:12:01.544283Z",
     "shell.execute_reply.started": "2021-11-21T12:12:01.320022Z"
    }
   },
   "outputs": [],
   "source": [
    "style_image =  np.array(Image.open(style_path).resize((img_size, img_size)))\n",
    "style_image = tf.constant(np.expand_dims(style_image,axis=0))\n",
    "\n",
    "print(style_image.shape)\n",
    "plt.imshow(style_image[0])\n",
    "plt.show()"
   ]
  },
  {
   "cell_type": "code",
   "execution_count": 40,
   "metadata": {
    "execution": {
     "iopub.execute_input": "2021-11-21T12:46:06.644165Z",
     "iopub.status.busy": "2021-11-21T12:46:06.643892Z",
     "iopub.status.idle": "2021-11-21T12:46:06.872851Z",
     "shell.execute_reply": "2021-11-21T12:46:06.872209Z",
     "shell.execute_reply.started": "2021-11-21T12:46:06.644133Z"
    }
   },
   "outputs": [],
   "source": [
    "generated_image = tf.Variable(tf.image.convert_image_dtype(content_image, tf.float32))\n",
    "noise = tf.random.uniform(tf.shape(generated_image), -0.3, 0.3)\n",
    "generated_image = tf.add(generated_image, noise)\n",
    "generated_image = tf.clip_by_value(generated_image, clip_value_min=0.0, clip_value_max=1.0)\n",
    "\n",
    "print(generated_image.shape)\n",
    "plt.imshow(generated_image.numpy()[0])\n",
    "plt.show()"
   ]
  },
  {
   "cell_type": "code",
   "execution_count": 18,
   "metadata": {
    "execution": {
     "iopub.execute_input": "2021-11-21T12:12:07.619492Z",
     "iopub.status.busy": "2021-11-21T12:12:07.618908Z",
     "iopub.status.idle": "2021-11-21T12:12:07.629477Z",
     "shell.execute_reply": "2021-11-21T12:12:07.628658Z",
     "shell.execute_reply.started": "2021-11-21T12:12:07.619451Z"
    }
   },
   "outputs": [],
   "source": [
    "content_layer = [('block5_conv4', 1)]\n",
    "outputs = [vgg.get_layer(layer[0]).output for layer in STYLE_LAYERS+content_layer]\n",
    "vgg_model = tf.keras.Model([vgg.input], outputs)"
   ]
  },
  {
   "cell_type": "code",
   "execution_count": 19,
   "metadata": {
    "execution": {
     "iopub.execute_input": "2021-11-21T12:12:08.865705Z",
     "iopub.status.busy": "2021-11-21T12:12:08.865080Z",
     "iopub.status.idle": "2021-11-21T12:12:08.872017Z",
     "shell.execute_reply": "2021-11-21T12:12:08.871243Z",
     "shell.execute_reply.started": "2021-11-21T12:12:08.865665Z"
    }
   },
   "outputs": [],
   "source": [
    "vgg_model.output"
   ]
  },
  {
   "cell_type": "code",
   "execution_count": 41,
   "metadata": {
    "execution": {
     "iopub.execute_input": "2021-11-21T12:46:15.545713Z",
     "iopub.status.busy": "2021-11-21T12:46:15.544757Z",
     "iopub.status.idle": "2021-11-21T12:46:15.573238Z",
     "shell.execute_reply": "2021-11-21T12:46:15.572497Z",
     "shell.execute_reply.started": "2021-11-21T12:46:15.545660Z"
    }
   },
   "outputs": [],
   "source": [
    "preprocessed_content =  tf.Variable(tf.image.convert_image_dtype(content_image, tf.float32))\n",
    "a_C = vgg_model(preprocessed_content)\n",
    "\n",
    "preprocessed_style =  tf.Variable(tf.image.convert_image_dtype(style_image, tf.float32))\n",
    "a_S = vgg_model(preprocessed_style)"
   ]
  },
  {
   "cell_type": "code",
   "execution_count": 21,
   "metadata": {
    "execution": {
     "iopub.execute_input": "2021-11-21T12:12:22.177713Z",
     "iopub.status.busy": "2021-11-21T12:12:22.177466Z",
     "iopub.status.idle": "2021-11-21T12:12:22.182993Z",
     "shell.execute_reply": "2021-11-21T12:12:22.182375Z",
     "shell.execute_reply.started": "2021-11-21T12:12:22.177686Z"
    }
   },
   "outputs": [],
   "source": [
    "def clip_0_1(image):\n",
    "    return tf.clip_by_value(image, clip_value_min=0.0, clip_value_max=1.0)\n",
    "\n",
    "def tensor_to_image(tensor):\n",
    "    tensor = tensor * 255\n",
    "    tensor = np.array(tensor, dtype=np.uint8)\n",
    "    if np.ndim(tensor) > 3:\n",
    "        tensor = tensor[0]\n",
    "    return Image.fromarray(tensor)"
   ]
  },
  {
   "cell_type": "code",
   "execution_count": 42,
   "metadata": {
    "execution": {
     "iopub.execute_input": "2021-11-21T12:46:18.818570Z",
     "iopub.status.busy": "2021-11-21T12:46:18.817875Z",
     "iopub.status.idle": "2021-11-21T12:46:18.824384Z",
     "shell.execute_reply": "2021-11-21T12:46:18.823546Z",
     "shell.execute_reply.started": "2021-11-21T12:46:18.818516Z"
    }
   },
   "outputs": [],
   "source": [
    "generated_image = tf.Variable(generated_image)"
   ]
  },
  {
   "cell_type": "code",
   "execution_count": 44,
   "metadata": {
    "execution": {
     "iopub.execute_input": "2021-11-21T12:51:24.781199Z",
     "iopub.status.busy": "2021-11-21T12:51:24.780927Z",
     "iopub.status.idle": "2021-11-21T12:51:24.790316Z",
     "shell.execute_reply": "2021-11-21T12:51:24.787562Z",
     "shell.execute_reply.started": "2021-11-21T12:51:24.781168Z"
    }
   },
   "outputs": [],
   "source": [
    "optimizer = tf.keras.optimizers.Adam(learning_rate=0.001)\n",
    "epochs = 20001\n",
    "\n",
    "@tf.function()\n",
    "def train(generated_image, C, S):\n",
    "    with tf.GradientTape() as tape:\n",
    "        a_G = vgg_model(generated_image)\n",
    "        J_style = compute_style_cost(S,a_G,STYLE_LAYERS)\n",
    "        J_content = compute_content_cost(C,a_G)\n",
    "        J = total_cost(J_content,J_style, alpha=10, beta=40)\n",
    "    grad = tape.gradient(J, generated_image)\n",
    "    optimizer.apply_gradients([(grad, generated_image)])\n",
    "    generated_image.assign(clip_0_1(generated_image))\n",
    "    return J"
   ]
  },
  {
   "cell_type": "code",
   "execution_count": 45,
   "metadata": {
    "execution": {
     "iopub.execute_input": "2021-11-21T12:51:26.250920Z",
     "iopub.status.busy": "2021-11-21T12:51:26.250647Z",
     "iopub.status.idle": "2021-11-21T13:02:38.089878Z",
     "shell.execute_reply": "2021-11-21T13:02:38.089167Z",
     "shell.execute_reply.started": "2021-11-21T12:51:26.250891Z"
    }
   },
   "outputs": [],
   "source": [
    "for i in range(epochs):\n",
    "    train(generated_image, a_C, a_S)\n",
    "    if i % 2000 == 0:\n",
    "        print(f\"Epoch {i} \")\n",
    "        image = tensor_to_image(generated_image)\n",
    "        plt.imshow(image)\n",
    "        plt.show() "
   ]
  },
  {
   "cell_type": "code",
   "execution_count": 46,
   "metadata": {
    "execution": {
     "iopub.execute_input": "2021-11-21T13:03:22.074623Z",
     "iopub.status.busy": "2021-11-21T13:03:22.073982Z",
     "iopub.status.idle": "2021-11-21T13:03:22.616050Z",
     "shell.execute_reply": "2021-11-21T13:03:22.615246Z",
     "shell.execute_reply.started": "2021-11-21T13:03:22.074580Z"
    }
   },
   "outputs": [],
   "source": [
    "fig = plt.figure(figsize=(16, 4))\n",
    "ax = fig.add_subplot(1, 3, 1)\n",
    "plt.imshow(content_image[0])\n",
    "ax.title.set_text('Content image')\n",
    "ax = fig.add_subplot(1, 3, 2)\n",
    "plt.imshow(style_image[0])\n",
    "ax.title.set_text('Style image')\n",
    "ax = fig.add_subplot(1, 3, 3)\n",
    "plt.imshow(generated_image[0])\n",
    "ax.title.set_text('Generated image')\n",
    "plt.show()"
   ]
  },
  {
   "cell_type": "code",
   "execution_count": 26,
   "metadata": {
    "execution": {
     "iopub.execute_input": "2021-11-21T12:26:21.913250Z",
     "iopub.status.busy": "2021-11-21T12:26:21.912942Z",
     "iopub.status.idle": "2021-11-21T12:26:21.917018Z",
     "shell.execute_reply": "2021-11-21T12:26:21.916292Z",
     "shell.execute_reply.started": "2021-11-21T12:26:21.913216Z"
    }
   },
   "outputs": [],
   "source": [
    "os.mkdir('./out')"
   ]
  },
  {
   "cell_type": "code",
   "execution_count": 27,
   "metadata": {
    "execution": {
     "iopub.execute_input": "2021-11-21T12:26:27.228156Z",
     "iopub.status.busy": "2021-11-21T12:26:27.227274Z",
     "iopub.status.idle": "2021-11-21T12:26:27.245208Z",
     "shell.execute_reply": "2021-11-21T12:26:27.244329Z",
     "shell.execute_reply.started": "2021-11-21T12:26:27.228107Z"
    }
   },
   "outputs": [],
   "source": [
    "image = tensor_to_image(generated_image)\n",
    "image.save(f'./out/art_{style_path[25:]}')"
   ]
  },
  {
   "cell_type": "code",
   "execution_count": 50,
   "metadata": {
    "execution": {
     "iopub.execute_input": "2021-11-21T13:17:04.670990Z",
     "iopub.status.busy": "2021-11-21T13:17:04.670253Z",
     "iopub.status.idle": "2021-11-21T13:17:04.877175Z",
     "shell.execute_reply": "2021-11-21T13:17:04.876276Z",
     "shell.execute_reply.started": "2021-11-21T13:17:04.670950Z"
    }
   },
   "outputs": [],
   "source": [
    "fig.savefig('./out/fig-starry-night.png')"
   ]
  },
  {
   "cell_type": "code",
   "execution_count": 51,
   "metadata": {
    "execution": {
     "iopub.execute_input": "2021-11-21T13:18:16.323316Z",
     "iopub.status.busy": "2021-11-21T13:18:16.323009Z",
     "iopub.status.idle": "2021-11-21T13:18:16.339983Z",
     "shell.execute_reply": "2021-11-21T13:18:16.339204Z",
     "shell.execute_reply.started": "2021-11-21T13:18:16.323274Z"
    }
   },
   "outputs": [],
   "source": [
    "def generate_art(c_path, s_path):\n",
    "    c_image = np.array(Image.open(c_path).resize((img_size, img_size)))\n",
    "    c_image = tf.constant(np.expand_dims(c_image,axis=0))\n",
    "    preprocessed_content_img =  tf.Variable(tf.image.convert_image_dtype(c_image, tf.float32))\n",
    "    a_C_target = vgg_model(preprocessed_content_img)\n",
    "\n",
    "    s_image = np.array(Image.open(s_path).resize((img_size, img_size)))\n",
    "    s_image = tf.constant(np.expand_dims(s_image,axis=0))\n",
    "    preprocessed_style_img =  tf.Variable(tf.image.convert_image_dtype(s_image, tf.float32))\n",
    "    a_S_target = vgg_model(preprocessed_style_img)\n",
    "    \n",
    "    g_image = tf.Variable(tf.image.convert_image_dtype(c_image, tf.float32))\n",
    "    noise = tf.random.uniform(tf.shape(g_image), -0.3, 0.3)\n",
    "    g_image = tf.add(g_image, noise)\n",
    "    g_image = tf.clip_by_value(g_image, clip_value_min=0.0, clip_value_max=1.0)\n",
    "    g_image = tf.Variable(g_image)\n",
    "    \n",
    "    @tf.function()\n",
    "    def train2(g, C, S):\n",
    "        with tf.GradientTape() as tape:\n",
    "            a_G = vgg_model(g)\n",
    "            J_style = compute_style_cost(S,a_G,STYLE_LAYERS)\n",
    "            J_content = compute_content_cost(C,a_G)\n",
    "            J = total_cost(J_content,J_style, alpha=10, beta=40)\n",
    "        grad = tape.gradient(J, g_image)\n",
    "        optimizer.apply_gradients([(grad, g_image)])\n",
    "        g_image.assign(clip_0_1(g_image))\n",
    "        return J\n",
    "    \n",
    "    optimizer = tf.keras.optimizers.Adam(learning_rate=0.001)\n",
    "    epochs = 22001\n",
    "    for i in range(epochs):\n",
    "        train2(g_image, a_C_target, a_S_target)\n",
    "        \n",
    "    fig = plt.figure(figsize=(16, 4))\n",
    "    ax = fig.add_subplot(1, 3, 1)\n",
    "    plt.imshow(c_image[0])\n",
    "    ax.title.set_text('Content image')\n",
    "    ax = fig.add_subplot(1, 3, 2)\n",
    "    plt.imshow(s_image[0])\n",
    "    ax.title.set_text('Style image')\n",
    "    ax = fig.add_subplot(1, 3, 3)\n",
    "    plt.imshow(g_image[0])\n",
    "    ax.title.set_text('Generated image')\n",
    "    plt.show()\n",
    "    \n",
    "    final_image = tensor_to_image(g_image)\n",
    "    final_image.save(f'./out/art_{s_path[25:]}')\n",
    "    \n",
    "    return final_image, fig"
   ]
  },
  {
   "cell_type": "code",
   "execution_count": 48,
   "metadata": {
    "execution": {
     "iopub.execute_input": "2021-11-21T13:03:36.574955Z",
     "iopub.status.busy": "2021-11-21T13:03:36.573911Z",
     "iopub.status.idle": "2021-11-21T13:15:54.107028Z",
     "shell.execute_reply": "2021-11-21T13:15:54.106238Z",
     "shell.execute_reply.started": "2021-11-21T13:03:36.574894Z"
    }
   },
   "outputs": [],
   "source": [
    "c_path = '../input/artneural/content/cat.jpg'\n",
    "s_path = '../input/artneural/style/guernica.jpg'\n",
    "generate_art(c_path, s_path)"
   ]
  },
  {
   "cell_type": "code",
   "execution_count": 52,
   "metadata": {
    "execution": {
     "iopub.execute_input": "2021-11-21T13:18:40.015173Z",
     "iopub.status.busy": "2021-11-21T13:18:40.014637Z",
     "iopub.status.idle": "2021-11-21T13:30:56.526899Z",
     "shell.execute_reply": "2021-11-21T13:30:56.526165Z",
     "shell.execute_reply.started": "2021-11-21T13:18:40.015137Z"
    }
   },
   "outputs": [],
   "source": [
    "c_path = '../input/artneural/content/cat.jpg'\n",
    "s_path = '../input/artneural/style/scream.jpg'\n",
    "_, final_fig = generate_art(c_path, s_path)"
   ]
  },
  {
   "cell_type": "code",
   "execution_count": 53,
   "metadata": {
    "execution": {
     "iopub.execute_input": "2021-11-21T13:31:57.253198Z",
     "iopub.status.busy": "2021-11-21T13:31:57.252376Z",
     "iopub.status.idle": "2021-11-21T13:31:57.300780Z",
     "shell.execute_reply": "2021-11-21T13:31:57.300175Z",
     "shell.execute_reply.started": "2021-11-21T13:31:57.253158Z"
    }
   },
   "outputs": [],
   "source": [
    "_"
   ]
  },
  {
   "cell_type": "code",
   "execution_count": 55,
   "metadata": {
    "execution": {
     "iopub.execute_input": "2021-11-21T13:32:59.953059Z",
     "iopub.status.busy": "2021-11-21T13:32:59.952584Z",
     "iopub.status.idle": "2021-11-21T13:33:00.120614Z",
     "shell.execute_reply": "2021-11-21T13:33:00.119898Z",
     "shell.execute_reply.started": "2021-11-21T13:32:59.953019Z"
    }
   },
   "outputs": [],
   "source": [
    "final_fig.savefig('./out/fig-scream.png')"
   ]
  },
  {
   "cell_type": "code",
   "execution_count": 56,
   "metadata": {
    "execution": {
     "iopub.execute_input": "2021-11-21T13:37:54.181976Z",
     "iopub.status.busy": "2021-11-21T13:37:54.181671Z",
     "iopub.status.idle": "2021-11-21T13:50:12.163368Z",
     "shell.execute_reply": "2021-11-21T13:50:12.162631Z",
     "shell.execute_reply.started": "2021-11-21T13:37:54.181943Z"
    }
   },
   "outputs": [],
   "source": [
    "c_path = '../input/artneural/style/drop-of-water.jpg'\n",
    "s_path = '../input/artneural/style/starry-night.jpg'\n",
    "img2, fig2 = generate_art(c_path, s_path)"
   ]
  },
  {
   "cell_type": "code",
   "execution_count": 57,
   "metadata": {
    "execution": {
     "iopub.execute_input": "2021-11-21T13:50:27.220187Z",
     "iopub.status.busy": "2021-11-21T13:50:27.219932Z",
     "iopub.status.idle": "2021-11-21T13:50:27.275176Z",
     "shell.execute_reply": "2021-11-21T13:50:27.274377Z",
     "shell.execute_reply.started": "2021-11-21T13:50:27.220156Z"
    }
   },
   "outputs": [],
   "source": [
    "img2"
   ]
  },
  {
   "cell_type": "code",
   "execution_count": 58,
   "metadata": {
    "execution": {
     "iopub.execute_input": "2021-11-21T13:51:41.321033Z",
     "iopub.status.busy": "2021-11-21T13:51:41.320373Z",
     "iopub.status.idle": "2021-11-21T13:51:41.501747Z",
     "shell.execute_reply": "2021-11-21T13:51:41.500920Z",
     "shell.execute_reply.started": "2021-11-21T13:51:41.320978Z"
    }
   },
   "outputs": [],
   "source": [
    "fig2.savefig('./out/fig-water-starry.png')\n",
    "img2.save('./out/staray.jpg')"
   ]
  },
  {
   "cell_type": "code",
   "execution_count": null,
   "metadata": {},
   "outputs": [],
   "source": []
  }
 ],
 "metadata": {
  "kernelspec": {
   "display_name": "Python 3",
   "language": "python",
   "name": "python3"
  },
  "language_info": {
   "codemirror_mode": {
    "name": "ipython",
    "version": 3
   },
   "file_extension": ".py",
   "mimetype": "text/x-python",
   "name": "python",
   "nbconvert_exporter": "python",
   "pygments_lexer": "ipython3",
   "version": "3.7.4"
  }
 },
 "nbformat": 4,
 "nbformat_minor": 4
}
