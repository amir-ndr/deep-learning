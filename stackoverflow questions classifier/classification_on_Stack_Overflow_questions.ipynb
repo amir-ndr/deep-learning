{
  "nbformat": 4,
  "nbformat_minor": 0,
  "metadata": {
    "colab": {
      "name": "classification on Stack Overflow questions.ipynb",
      "provenance": [],
      "collapsed_sections": []
    },
    "kernelspec": {
      "name": "python3",
      "display_name": "Python 3"
    },
    "language_info": {
      "name": "python"
    }
  },
  "cells": [
    {
      "cell_type": "code",
      "metadata": {
        "id": "33GuOzM2w6x-"
      },
      "source": [
        "import matplotlib.pyplot as plt\n",
        "import os\n",
        "import re\n",
        "import string\n",
        "import tensorflow as tf\n",
        "\n",
        "from tensorflow.keras import layers\n",
        "from tensorflow.keras import losses\n",
        "from tensorflow.keras import preprocessing\n",
        "from tensorflow.keras.layers.experimental.preprocessing import TextVectorization"
      ],
      "execution_count": 60,
      "outputs": []
    },
    {
      "cell_type": "markdown",
      "metadata": {
        "id": "8umosTCGZEkj"
      },
      "source": [
        "###stackoverflow dataset is here for us to use containing the body of several thousand programming questions (for example, \"How can sort a dictionary by value in Python?\") posted to Stack Overflow. Each of these is labeled with exactly one tag (either Python, CSharp, JavaScript, or Java). our task is to take a question as input, and predict the appropriate tag, in this case, Python.\n",
        "###to increase the difficulty of the classification problem, occurrences of the words Python, CSharp, JavaScript, or Java in the programming questions have been replaced with the word blank (as many questions contain the language they're about)."
      ]
    },
    {
      "cell_type": "markdown",
      "metadata": {
        "id": "N9jJ_msBQycs"
      },
      "source": [
        "####download data in tar format"
      ]
    },
    {
      "cell_type": "code",
      "metadata": {
        "id": "UZOoo_BSxKop"
      },
      "source": [
        "url = \"http://storage.googleapis.com/download.tensorflow.org/data/stack_overflow_16k.tar.gz\"\n",
        "\n",
        "dataset = tf.keras.utils.get_file(\"stack_overflow\", url,\n",
        "                                    untar=True, cache_dir='.',\n",
        "                                    cache_subdir='')\n"
      ],
      "execution_count": 61,
      "outputs": []
    },
    {
      "cell_type": "markdown",
      "metadata": {
        "id": "OKmHbCZeRaqs"
      },
      "source": [
        "####show the content of the folder"
      ]
    },
    {
      "cell_type": "code",
      "metadata": {
        "colab": {
          "base_uri": "https://localhost:8080/"
        },
        "id": "ZQcGcG1FyTpA",
        "outputId": "3c38da10-fb4b-42e2-9a36-6d862cc654b0"
      },
      "source": [
        "os.listdir('/content')"
      ],
      "execution_count": 3,
      "outputs": [
        {
          "output_type": "execute_result",
          "data": {
            "text/plain": [
              "['.config',\n",
              " 'train',\n",
              " 'stack_overflow.tar.gz',\n",
              " 'test',\n",
              " 'README.md',\n",
              " 'sample_data']"
            ]
          },
          "metadata": {},
          "execution_count": 3
        }
      ]
    },
    {
      "cell_type": "markdown",
      "metadata": {
        "id": "14sr5h4zRm24"
      },
      "source": [
        "####make directory for training set"
      ]
    },
    {
      "cell_type": "code",
      "metadata": {
        "id": "5ywW0wARywS1"
      },
      "source": [
        "train_dir = os.path.join('/content','train')"
      ],
      "execution_count": 4,
      "outputs": []
    },
    {
      "cell_type": "markdown",
      "metadata": {
        "id": "gnDgIpOwSZnD"
      },
      "source": [
        "####content of training directory"
      ]
    },
    {
      "cell_type": "code",
      "metadata": {
        "colab": {
          "base_uri": "https://localhost:8080/"
        },
        "id": "MNOzPfba0_N2",
        "outputId": "54560bad-3bd5-4eaa-dab3-e2354c0eb395"
      },
      "source": [
        "os.listdir(train_dir)"
      ],
      "execution_count": 5,
      "outputs": [
        {
          "output_type": "execute_result",
          "data": {
            "text/plain": [
              "['csharp', 'python', 'javascript', 'java']"
            ]
          },
          "metadata": {},
          "execution_count": 5
        }
      ]
    },
    {
      "cell_type": "markdown",
      "metadata": {
        "id": "2BQxnoWCSi2D"
      },
      "source": [
        "####see an example of one question in stackoverflow"
      ]
    },
    {
      "cell_type": "code",
      "metadata": {
        "colab": {
          "base_uri": "https://localhost:8080/"
        },
        "id": "VK_LXm3M1Bla",
        "outputId": "91e53cf7-e166-46fe-e4c4-e7423bcd2d1c"
      },
      "source": [
        "sample_file = os.path.join(train_dir, 'javascript/1138.txt')\n",
        "with open(sample_file) as f:\n",
        "  print(f.read())"
      ],
      "execution_count": 6,
      "outputs": [
        {
          "output_type": "stream",
          "name": "stdout",
          "text": [
            "\"changing image with blank i'm using jquery mobile to make an app. i'm playing a sound file when the page loads and displaying an image to turn the sound file off when clicked. everything is working fine however i can only get the image to change on the index page. i can turn off the sound file on any page however the image wont change on any other page. please help =) &lt;3 ..&lt;script type=\"\"text/blank\"\"&gt;.var newsrc = \"\"soundoff.png\"\";..function changeimage() {.    var sample = document.getelementbyid(\"\"foobar\"\");.    sample.pause();..    if ( newsrc == \"\"soundoff.png\"\" ) {.        document.images[\"\"sound\"\"].src = \"\"/img/soundoff.png\"\";.        document.images[\"\"sound\"\"].alt = \"\"sound off\"\";.        newsrc  = \"\"soundon.png\"\";.    }.    else {.        var sample = document.getelementbyid(\"\"foobar\"\");.        sample.play();.        document.images[\"\"sound\"\"].src = \"\"/img/soundon.png\"\";.        document.images[\"\"sound\"\"].alt = \"\"sound on\"\";.        newsrc  = \"\"soundoff.png\"\";.    }.}.var sample = document.getelementbyid(\"\"foobar\"\");.sample.play();\"\n",
            "\n"
          ]
        }
      ]
    },
    {
      "cell_type": "markdown",
      "metadata": {
        "id": "wo1D11KjTRpF"
      },
      "source": [
        "###make dataset for training data\n",
        "####we will use the text_dataset_from_directory utility to create a labeled tf.data.Dataset"
      ]
    },
    {
      "cell_type": "code",
      "metadata": {
        "colab": {
          "base_uri": "https://localhost:8080/"
        },
        "id": "o4BscplT3lG5",
        "outputId": "eeb06c5b-e07a-408b-959c-b16fa8f24d5d"
      },
      "source": [
        "batch_size = 32\n",
        "seed = 42\n",
        "\n",
        "raw_train_ds = tf.keras.preprocessing.text_dataset_from_directory(\n",
        "    'train', \n",
        "    batch_size=batch_size, \n",
        "    validation_split=0.2, \n",
        "    subset='training', \n",
        "    seed=seed)"
      ],
      "execution_count": 7,
      "outputs": [
        {
          "output_type": "stream",
          "name": "stdout",
          "text": [
            "Found 8000 files belonging to 4 classes.\n",
            "Using 6400 files for training.\n"
          ]
        }
      ]
    },
    {
      "cell_type": "markdown",
      "metadata": {
        "id": "1zAz8Z6vTdq7"
      },
      "source": [
        "####corresponding label for each language"
      ]
    },
    {
      "cell_type": "code",
      "metadata": {
        "colab": {
          "base_uri": "https://localhost:8080/"
        },
        "id": "9IQyFC5c3ztG",
        "outputId": "04d616e1-c846-49ad-a8fe-e8b59ca96e8e"
      },
      "source": [
        "print(\"Label 0 corresponds to\", raw_train_ds.class_names[0])\n",
        "print(\"Label 1 corresponds to\", raw_train_ds.class_names[1])\n",
        "print(\"Label 2 corresponds to\", raw_train_ds.class_names[2])\n",
        "print(\"Label 3 corresponds to\", raw_train_ds.class_names[3])"
      ],
      "execution_count": 9,
      "outputs": [
        {
          "output_type": "stream",
          "name": "stdout",
          "text": [
            "Label 0 corresponds to csharp\n",
            "Label 1 corresponds to java\n",
            "Label 2 corresponds to javascript\n",
            "Label 3 corresponds to python\n"
          ]
        }
      ]
    },
    {
      "cell_type": "markdown",
      "metadata": {
        "id": "YtOc2vkGTwSE"
      },
      "source": [
        "####make dataset for val and test data"
      ]
    },
    {
      "cell_type": "code",
      "metadata": {
        "colab": {
          "base_uri": "https://localhost:8080/"
        },
        "id": "QyyRg3jU4MWG",
        "outputId": "76620f20-4fd4-41ff-a333-5ee1364f7a49"
      },
      "source": [
        "raw_val_ds = tf.keras.preprocessing.text_dataset_from_directory(\n",
        "    'train', \n",
        "    batch_size=batch_size, \n",
        "    validation_split=0.2, \n",
        "    subset='validation', \n",
        "    seed=seed)"
      ],
      "execution_count": 10,
      "outputs": [
        {
          "output_type": "stream",
          "name": "stdout",
          "text": [
            "Found 8000 files belonging to 4 classes.\n",
            "Using 1600 files for validation.\n"
          ]
        }
      ]
    },
    {
      "cell_type": "code",
      "metadata": {
        "colab": {
          "base_uri": "https://localhost:8080/"
        },
        "id": "Ydt7Wpnk43_0",
        "outputId": "b6c8373f-8123-4316-9c2a-7aeb78ae5107"
      },
      "source": [
        "raw_test_ds = tf.keras.preprocessing.text_dataset_from_directory(\n",
        "    'test', \n",
        "    batch_size=batch_size)"
      ],
      "execution_count": 11,
      "outputs": [
        {
          "output_type": "stream",
          "name": "stdout",
          "text": [
            "Found 8000 files belonging to 4 classes.\n"
          ]
        }
      ]
    },
    {
      "cell_type": "markdown",
      "metadata": {
        "id": "8BEcSNYfVVHd"
      },
      "source": [
        "####there are 8000 examples in the training folder, of which you will use 80% (or 6400) for training."
      ]
    },
    {
      "cell_type": "markdown",
      "metadata": {
        "id": "coyoURsfVqxM"
      },
      "source": [
        "##Prepare the dataset for training\n",
        "####we will standardize, tokenize, and vectorize the data using the helpful preprocessing.TextVectorization layer.\n",
        "####the reviews contain various HTML tags like <br />. These tags will not be removed by the default standardizer in the TextVectorization layer (which converts text to lowercase and strips punctuation by default, but doesn't strip HTML). we will write a custom standardization function to remove the HTML."
      ]
    },
    {
      "cell_type": "code",
      "metadata": {
        "id": "9QvVejhX5zK7"
      },
      "source": [
        "def custom_standardization(input_data):\n",
        "  lowercase = tf.strings.lower(input_data)\n",
        "  stripped_html = tf.strings.regex_replace(lowercase, '<br />', ' ')\n",
        "  return tf.strings.regex_replace(stripped_html,'[%s]' % re.escape(string.punctuation),'')"
      ],
      "execution_count": 12,
      "outputs": []
    },
    {
      "cell_type": "markdown",
      "metadata": {
        "id": "U4_ZenaaWX0f"
      },
      "source": [
        "####Next, we will create a TextVectorization layer. we will use this layer to standardize, tokenize, and vectorize our data. we set the output_mode to int to create unique integer indices for each token."
      ]
    },
    {
      "cell_type": "code",
      "metadata": {
        "id": "57rDylWq57gN"
      },
      "source": [
        "max_features = 10000\n",
        "sequence_length = 250\n",
        "\n",
        "vectorize_layer = TextVectorization(\n",
        "    standardize=custom_standardization,\n",
        "    max_tokens=max_features,\n",
        "    output_mode='int',\n",
        "    output_sequence_length=sequence_length)"
      ],
      "execution_count": 13,
      "outputs": []
    },
    {
      "cell_type": "markdown",
      "metadata": {
        "id": "atwxuKoiWxik"
      },
      "source": [
        "####Next, we will call adapt to fit the state of the preprocessing layer to the dataset."
      ]
    },
    {
      "cell_type": "code",
      "metadata": {
        "id": "lqVYgTz56CAz"
      },
      "source": [
        "train_text = raw_train_ds.map(lambda x, y: x)\n",
        "vectorize_layer.adapt(train_text)"
      ],
      "execution_count": 14,
      "outputs": []
    },
    {
      "cell_type": "markdown",
      "metadata": {
        "id": "KyGIo6j7XCPq"
      },
      "source": [
        "####make a function for processing data"
      ]
    },
    {
      "cell_type": "code",
      "metadata": {
        "id": "9-CSPo5-6gjT"
      },
      "source": [
        "def vectorize_text(text, label):\n",
        "  text = tf.expand_dims(text, -1)\n",
        "  return vectorize_layer(text), label"
      ],
      "execution_count": 15,
      "outputs": []
    },
    {
      "cell_type": "markdown",
      "metadata": {
        "id": "9Do-332jXxAU"
      },
      "source": [
        "####As a final preprocessing step, we will apply the TextVectorization layer we created earlier to the train, validation, and test dataset."
      ]
    },
    {
      "cell_type": "code",
      "metadata": {
        "id": "dgFJ1bqt6FNX"
      },
      "source": [
        "train_ds = raw_train_ds.map(vectorize_text)\n",
        "val_ds = raw_val_ds.map(vectorize_text)\n",
        "test_ds = raw_test_ds.map(vectorize_text)"
      ],
      "execution_count": 16,
      "outputs": []
    },
    {
      "cell_type": "markdown",
      "metadata": {
        "id": "rUV9znsrX4cr"
      },
      "source": [
        "####example of the word of integer 2000"
      ]
    },
    {
      "cell_type": "code",
      "metadata": {
        "colab": {
          "base_uri": "https://localhost:8080/"
        },
        "id": "1GDryo4I6dRj",
        "outputId": "04861599-dbc0-40a8-d407-4f72c1ba3020"
      },
      "source": [
        "print(\"2000 ---> \",vectorize_layer.get_vocabulary()[2000])"
      ],
      "execution_count": 17,
      "outputs": [
        {
          "output_type": "stream",
          "name": "stdout",
          "text": [
            "2000 --->  intended\n"
          ]
        }
      ]
    },
    {
      "cell_type": "markdown",
      "metadata": {
        "id": "5q-sqL8sZ3Te"
      },
      "source": [
        "###create model"
      ]
    },
    {
      "cell_type": "code",
      "metadata": {
        "id": "pfMqrAj-66HO",
        "colab": {
          "base_uri": "https://localhost:8080/"
        },
        "outputId": "a169f4cd-a968-4663-ffc9-4e22f20738c2"
      },
      "source": [
        "embedding_dim = 8\n",
        "\n",
        "model = tf.keras.Sequential([\n",
        "  layers.Embedding(max_features + 1, embedding_dim),\n",
        "  layers.Dropout(0.5),\n",
        "  layers.GlobalAveragePooling1D(),\n",
        "  layers.Dropout(0.5),\n",
        "  # layers.Dense(16,activation='relu'),\n",
        "  # layers.Dropout(0.4),\n",
        "  # layers.Dense(16,activation='relu'),\n",
        "  # layers.Dropout(0.4),\n",
        "  layers.Dense(4)])\n",
        "\n",
        "model.summary()\n"
      ],
      "execution_count": 137,
      "outputs": [
        {
          "output_type": "stream",
          "name": "stdout",
          "text": [
            "Model: \"sequential_11\"\n",
            "_________________________________________________________________\n",
            "Layer (type)                 Output Shape              Param #   \n",
            "=================================================================\n",
            "embedding_11 (Embedding)     (None, None, 8)           80008     \n",
            "_________________________________________________________________\n",
            "dropout_22 (Dropout)         (None, None, 8)           0         \n",
            "_________________________________________________________________\n",
            "global_average_pooling1d_8 ( (None, 8)                 0         \n",
            "_________________________________________________________________\n",
            "dropout_23 (Dropout)         (None, 8)                 0         \n",
            "_________________________________________________________________\n",
            "dense_11 (Dense)             (None, 4)                 36        \n",
            "=================================================================\n",
            "Total params: 80,044\n",
            "Trainable params: 80,044\n",
            "Non-trainable params: 0\n",
            "_________________________________________________________________\n"
          ]
        }
      ]
    },
    {
      "cell_type": "markdown",
      "metadata": {
        "id": "j6aQxQm_bKQw"
      },
      "source": [
        "###Loss function and optimizer"
      ]
    },
    {
      "cell_type": "code",
      "metadata": {
        "id": "z1yH74Er7Bpf"
      },
      "source": [
        "model.compile(loss=losses.SparseCategoricalCrossentropy(from_logits=True),\n",
        "              optimizer='adam',\n",
        "              metrics=['accuracy'])\n",
        "\n",
        "early_stopping = tf.keras.callbacks.EarlyStopping(\n",
        "    patience=10,\n",
        "    min_delta=0.001,\n",
        "    restore_best_weights=True\n",
        ")"
      ],
      "execution_count": 138,
      "outputs": []
    },
    {
      "cell_type": "markdown",
      "metadata": {
        "id": "aYNoIetgg6V5"
      },
      "source": [
        "####fit the model"
      ]
    },
    {
      "cell_type": "code",
      "metadata": {
        "colab": {
          "base_uri": "https://localhost:8080/"
        },
        "id": "0MyNj4qQ8hOc",
        "outputId": "9effe433-8a6f-4265-e3ca-caaac5acaab8"
      },
      "source": [
        "epochs = 150\n",
        "history = model.fit(\n",
        "    train_ds,\n",
        "    validation_data=val_ds,\n",
        "    callbacks = [early_stopping],\n",
        "    epochs=epochs)"
      ],
      "execution_count": 139,
      "outputs": [
        {
          "output_type": "stream",
          "name": "stdout",
          "text": [
            "Epoch 1/150\n",
            "200/200 [==============================] - 4s 16ms/step - loss: 1.3847 - accuracy: 0.2859 - val_loss: 1.3817 - val_accuracy: 0.2906\n",
            "Epoch 2/150\n",
            "200/200 [==============================] - 3s 16ms/step - loss: 1.3763 - accuracy: 0.3759 - val_loss: 1.3700 - val_accuracy: 0.4181\n",
            "Epoch 3/150\n",
            "200/200 [==============================] - 3s 17ms/step - loss: 1.3586 - accuracy: 0.4320 - val_loss: 1.3482 - val_accuracy: 0.5400\n",
            "Epoch 4/150\n",
            "200/200 [==============================] - 3s 16ms/step - loss: 1.3325 - accuracy: 0.4611 - val_loss: 1.3185 - val_accuracy: 0.5706\n",
            "Epoch 5/150\n",
            "200/200 [==============================] - 3s 15ms/step - loss: 1.3024 - accuracy: 0.5077 - val_loss: 1.2835 - val_accuracy: 0.6031\n",
            "Epoch 6/150\n",
            "200/200 [==============================] - 3s 15ms/step - loss: 1.2615 - accuracy: 0.5514 - val_loss: 1.2423 - val_accuracy: 0.6156\n",
            "Epoch 7/150\n",
            "200/200 [==============================] - 3s 16ms/step - loss: 1.2230 - accuracy: 0.5769 - val_loss: 1.2013 - val_accuracy: 0.6556\n",
            "Epoch 8/150\n",
            "200/200 [==============================] - 3s 17ms/step - loss: 1.1806 - accuracy: 0.6073 - val_loss: 1.1580 - val_accuracy: 0.6837\n",
            "Epoch 9/150\n",
            "200/200 [==============================] - 3s 15ms/step - loss: 1.1431 - accuracy: 0.6189 - val_loss: 1.1163 - val_accuracy: 0.7000\n",
            "Epoch 10/150\n",
            "200/200 [==============================] - 3s 16ms/step - loss: 1.1039 - accuracy: 0.6413 - val_loss: 1.0763 - val_accuracy: 0.7131\n",
            "Epoch 11/150\n",
            "200/200 [==============================] - 3s 16ms/step - loss: 1.0673 - accuracy: 0.6513 - val_loss: 1.0382 - val_accuracy: 0.7188\n",
            "Epoch 12/150\n",
            "200/200 [==============================] - 3s 16ms/step - loss: 1.0356 - accuracy: 0.6739 - val_loss: 1.0041 - val_accuracy: 0.7369\n",
            "Epoch 13/150\n",
            "200/200 [==============================] - 3s 16ms/step - loss: 1.0048 - accuracy: 0.6725 - val_loss: 0.9703 - val_accuracy: 0.7312\n",
            "Epoch 14/150\n",
            "200/200 [==============================] - 3s 17ms/step - loss: 0.9733 - accuracy: 0.6836 - val_loss: 0.9415 - val_accuracy: 0.7475\n",
            "Epoch 15/150\n",
            "200/200 [==============================] - 3s 16ms/step - loss: 0.9504 - accuracy: 0.6900 - val_loss: 0.9129 - val_accuracy: 0.7437\n",
            "Epoch 16/150\n",
            "200/200 [==============================] - 3s 16ms/step - loss: 0.9310 - accuracy: 0.6842 - val_loss: 0.8879 - val_accuracy: 0.7531\n",
            "Epoch 17/150\n",
            "200/200 [==============================] - 3s 16ms/step - loss: 0.8977 - accuracy: 0.7047 - val_loss: 0.8635 - val_accuracy: 0.7556\n",
            "Epoch 18/150\n",
            "200/200 [==============================] - 3s 16ms/step - loss: 0.8850 - accuracy: 0.7103 - val_loss: 0.8418 - val_accuracy: 0.7606\n",
            "Epoch 19/150\n",
            "200/200 [==============================] - 3s 16ms/step - loss: 0.8601 - accuracy: 0.7164 - val_loss: 0.8226 - val_accuracy: 0.7663\n",
            "Epoch 20/150\n",
            "200/200 [==============================] - 3s 16ms/step - loss: 0.8517 - accuracy: 0.7138 - val_loss: 0.8038 - val_accuracy: 0.7719\n",
            "Epoch 21/150\n",
            "200/200 [==============================] - 3s 17ms/step - loss: 0.8245 - accuracy: 0.7203 - val_loss: 0.7859 - val_accuracy: 0.7750\n",
            "Epoch 22/150\n",
            "200/200 [==============================] - 3s 17ms/step - loss: 0.8081 - accuracy: 0.7231 - val_loss: 0.7689 - val_accuracy: 0.7731\n",
            "Epoch 23/150\n",
            "200/200 [==============================] - 3s 17ms/step - loss: 0.7950 - accuracy: 0.7261 - val_loss: 0.7554 - val_accuracy: 0.7850\n",
            "Epoch 24/150\n",
            "200/200 [==============================] - 3s 16ms/step - loss: 0.7842 - accuracy: 0.7311 - val_loss: 0.7395 - val_accuracy: 0.7900\n",
            "Epoch 25/150\n",
            "200/200 [==============================] - 3s 15ms/step - loss: 0.7704 - accuracy: 0.7402 - val_loss: 0.7282 - val_accuracy: 0.7994\n",
            "Epoch 26/150\n",
            "200/200 [==============================] - 3s 16ms/step - loss: 0.7644 - accuracy: 0.7327 - val_loss: 0.7154 - val_accuracy: 0.7925\n",
            "Epoch 27/150\n",
            "200/200 [==============================] - 3s 16ms/step - loss: 0.7469 - accuracy: 0.7408 - val_loss: 0.7024 - val_accuracy: 0.7950\n",
            "Epoch 28/150\n",
            "200/200 [==============================] - 3s 15ms/step - loss: 0.7322 - accuracy: 0.7469 - val_loss: 0.6914 - val_accuracy: 0.7987\n",
            "Epoch 29/150\n",
            "200/200 [==============================] - 3s 15ms/step - loss: 0.7163 - accuracy: 0.7542 - val_loss: 0.6805 - val_accuracy: 0.8006\n",
            "Epoch 30/150\n",
            "200/200 [==============================] - 3s 15ms/step - loss: 0.7147 - accuracy: 0.7489 - val_loss: 0.6706 - val_accuracy: 0.7987\n",
            "Epoch 31/150\n",
            "200/200 [==============================] - 3s 16ms/step - loss: 0.7035 - accuracy: 0.7555 - val_loss: 0.6602 - val_accuracy: 0.8031\n",
            "Epoch 32/150\n",
            "200/200 [==============================] - 3s 16ms/step - loss: 0.6981 - accuracy: 0.7606 - val_loss: 0.6514 - val_accuracy: 0.8044\n",
            "Epoch 33/150\n",
            "200/200 [==============================] - 3s 16ms/step - loss: 0.6887 - accuracy: 0.7597 - val_loss: 0.6431 - val_accuracy: 0.8062\n",
            "Epoch 34/150\n",
            "200/200 [==============================] - 3s 14ms/step - loss: 0.6803 - accuracy: 0.7589 - val_loss: 0.6351 - val_accuracy: 0.8106\n",
            "Epoch 35/150\n",
            "200/200 [==============================] - 3s 16ms/step - loss: 0.6646 - accuracy: 0.7672 - val_loss: 0.6273 - val_accuracy: 0.8131\n",
            "Epoch 36/150\n",
            "200/200 [==============================] - 3s 16ms/step - loss: 0.6572 - accuracy: 0.7733 - val_loss: 0.6202 - val_accuracy: 0.8131\n",
            "Epoch 37/150\n",
            "200/200 [==============================] - 3s 16ms/step - loss: 0.6484 - accuracy: 0.7817 - val_loss: 0.6143 - val_accuracy: 0.8150\n",
            "Epoch 38/150\n",
            "200/200 [==============================] - 3s 16ms/step - loss: 0.6421 - accuracy: 0.7770 - val_loss: 0.6063 - val_accuracy: 0.8163\n",
            "Epoch 39/150\n",
            "200/200 [==============================] - 3s 16ms/step - loss: 0.6331 - accuracy: 0.7767 - val_loss: 0.6000 - val_accuracy: 0.8144\n",
            "Epoch 40/150\n",
            "200/200 [==============================] - 3s 17ms/step - loss: 0.6294 - accuracy: 0.7831 - val_loss: 0.5946 - val_accuracy: 0.8175\n",
            "Epoch 41/150\n",
            "200/200 [==============================] - 4s 17ms/step - loss: 0.6252 - accuracy: 0.7806 - val_loss: 0.5906 - val_accuracy: 0.8163\n",
            "Epoch 42/150\n",
            "200/200 [==============================] - 3s 16ms/step - loss: 0.6128 - accuracy: 0.7861 - val_loss: 0.5822 - val_accuracy: 0.8163\n",
            "Epoch 43/150\n",
            "200/200 [==============================] - 3s 17ms/step - loss: 0.6042 - accuracy: 0.7922 - val_loss: 0.5780 - val_accuracy: 0.8219\n",
            "Epoch 44/150\n",
            "200/200 [==============================] - 3s 17ms/step - loss: 0.5968 - accuracy: 0.7911 - val_loss: 0.5726 - val_accuracy: 0.8181\n",
            "Epoch 45/150\n",
            "200/200 [==============================] - 4s 17ms/step - loss: 0.5834 - accuracy: 0.7925 - val_loss: 0.5676 - val_accuracy: 0.8250\n",
            "Epoch 46/150\n",
            "200/200 [==============================] - 4s 17ms/step - loss: 0.5877 - accuracy: 0.7922 - val_loss: 0.5622 - val_accuracy: 0.8213\n",
            "Epoch 47/150\n",
            "200/200 [==============================] - 3s 16ms/step - loss: 0.5786 - accuracy: 0.8020 - val_loss: 0.5581 - val_accuracy: 0.8269\n",
            "Epoch 48/150\n",
            "200/200 [==============================] - 3s 17ms/step - loss: 0.5812 - accuracy: 0.7978 - val_loss: 0.5542 - val_accuracy: 0.8238\n",
            "Epoch 49/150\n",
            "200/200 [==============================] - 3s 17ms/step - loss: 0.5638 - accuracy: 0.7994 - val_loss: 0.5513 - val_accuracy: 0.8238\n",
            "Epoch 50/150\n",
            "200/200 [==============================] - 3s 16ms/step - loss: 0.5631 - accuracy: 0.8030 - val_loss: 0.5457 - val_accuracy: 0.8231\n",
            "Epoch 51/150\n",
            "200/200 [==============================] - 3s 17ms/step - loss: 0.5547 - accuracy: 0.8083 - val_loss: 0.5428 - val_accuracy: 0.8219\n",
            "Epoch 52/150\n",
            "200/200 [==============================] - 3s 17ms/step - loss: 0.5455 - accuracy: 0.8119 - val_loss: 0.5381 - val_accuracy: 0.8288\n",
            "Epoch 53/150\n",
            "200/200 [==============================] - 3s 16ms/step - loss: 0.5457 - accuracy: 0.8030 - val_loss: 0.5347 - val_accuracy: 0.8300\n",
            "Epoch 54/150\n",
            "200/200 [==============================] - 3s 16ms/step - loss: 0.5409 - accuracy: 0.8119 - val_loss: 0.5319 - val_accuracy: 0.8294\n",
            "Epoch 55/150\n",
            "200/200 [==============================] - 3s 17ms/step - loss: 0.5331 - accuracy: 0.8100 - val_loss: 0.5291 - val_accuracy: 0.8300\n",
            "Epoch 56/150\n",
            "200/200 [==============================] - 4s 17ms/step - loss: 0.5208 - accuracy: 0.8195 - val_loss: 0.5261 - val_accuracy: 0.8319\n",
            "Epoch 57/150\n",
            "200/200 [==============================] - 4s 18ms/step - loss: 0.5225 - accuracy: 0.8173 - val_loss: 0.5229 - val_accuracy: 0.8344\n",
            "Epoch 58/150\n",
            "200/200 [==============================] - 3s 17ms/step - loss: 0.5197 - accuracy: 0.8211 - val_loss: 0.5206 - val_accuracy: 0.8313\n",
            "Epoch 59/150\n",
            "200/200 [==============================] - 3s 16ms/step - loss: 0.5137 - accuracy: 0.8163 - val_loss: 0.5177 - val_accuracy: 0.8319\n",
            "Epoch 60/150\n",
            "200/200 [==============================] - 4s 17ms/step - loss: 0.5098 - accuracy: 0.8181 - val_loss: 0.5142 - val_accuracy: 0.8325\n",
            "Epoch 61/150\n",
            "200/200 [==============================] - 3s 17ms/step - loss: 0.5055 - accuracy: 0.8208 - val_loss: 0.5116 - val_accuracy: 0.8344\n",
            "Epoch 62/150\n",
            "200/200 [==============================] - 3s 17ms/step - loss: 0.4957 - accuracy: 0.8267 - val_loss: 0.5094 - val_accuracy: 0.8356\n",
            "Epoch 63/150\n",
            "200/200 [==============================] - 3s 16ms/step - loss: 0.4937 - accuracy: 0.8289 - val_loss: 0.5070 - val_accuracy: 0.8350\n",
            "Epoch 64/150\n",
            "200/200 [==============================] - 3s 17ms/step - loss: 0.4925 - accuracy: 0.8277 - val_loss: 0.5047 - val_accuracy: 0.8350\n",
            "Epoch 65/150\n",
            "200/200 [==============================] - 3s 16ms/step - loss: 0.4819 - accuracy: 0.8319 - val_loss: 0.5034 - val_accuracy: 0.8394\n",
            "Epoch 66/150\n",
            "200/200 [==============================] - 3s 16ms/step - loss: 0.4826 - accuracy: 0.8269 - val_loss: 0.5025 - val_accuracy: 0.8344\n",
            "Epoch 67/150\n",
            "200/200 [==============================] - 3s 16ms/step - loss: 0.4788 - accuracy: 0.8292 - val_loss: 0.4988 - val_accuracy: 0.8369\n",
            "Epoch 68/150\n",
            "200/200 [==============================] - 3s 16ms/step - loss: 0.4800 - accuracy: 0.8227 - val_loss: 0.4965 - val_accuracy: 0.8394\n",
            "Epoch 69/150\n",
            "200/200 [==============================] - 3s 17ms/step - loss: 0.4732 - accuracy: 0.8316 - val_loss: 0.4952 - val_accuracy: 0.8375\n",
            "Epoch 70/150\n",
            "200/200 [==============================] - 3s 16ms/step - loss: 0.4629 - accuracy: 0.8388 - val_loss: 0.4933 - val_accuracy: 0.8406\n",
            "Epoch 71/150\n",
            "200/200 [==============================] - 3s 16ms/step - loss: 0.4672 - accuracy: 0.8359 - val_loss: 0.4924 - val_accuracy: 0.8394\n",
            "Epoch 72/150\n",
            "200/200 [==============================] - 3s 16ms/step - loss: 0.4604 - accuracy: 0.8386 - val_loss: 0.4903 - val_accuracy: 0.8406\n",
            "Epoch 73/150\n",
            "200/200 [==============================] - 3s 16ms/step - loss: 0.4570 - accuracy: 0.8384 - val_loss: 0.4880 - val_accuracy: 0.8400\n",
            "Epoch 74/150\n",
            "200/200 [==============================] - 3s 16ms/step - loss: 0.4567 - accuracy: 0.8330 - val_loss: 0.4874 - val_accuracy: 0.8413\n",
            "Epoch 75/150\n",
            "200/200 [==============================] - 3s 17ms/step - loss: 0.4526 - accuracy: 0.8389 - val_loss: 0.4866 - val_accuracy: 0.8406\n",
            "Epoch 76/150\n",
            "200/200 [==============================] - 3s 17ms/step - loss: 0.4461 - accuracy: 0.8394 - val_loss: 0.4838 - val_accuracy: 0.8400\n",
            "Epoch 77/150\n",
            "200/200 [==============================] - 3s 17ms/step - loss: 0.4475 - accuracy: 0.8456 - val_loss: 0.4827 - val_accuracy: 0.8406\n",
            "Epoch 78/150\n",
            "200/200 [==============================] - 4s 18ms/step - loss: 0.4433 - accuracy: 0.8444 - val_loss: 0.4815 - val_accuracy: 0.8419\n",
            "Epoch 79/150\n",
            "200/200 [==============================] - 3s 17ms/step - loss: 0.4437 - accuracy: 0.8430 - val_loss: 0.4798 - val_accuracy: 0.8400\n",
            "Epoch 80/150\n",
            "200/200 [==============================] - 4s 17ms/step - loss: 0.4413 - accuracy: 0.8434 - val_loss: 0.4797 - val_accuracy: 0.8419\n",
            "Epoch 81/150\n",
            "200/200 [==============================] - 3s 16ms/step - loss: 0.4249 - accuracy: 0.8467 - val_loss: 0.4781 - val_accuracy: 0.8375\n",
            "Epoch 82/150\n",
            "200/200 [==============================] - 3s 17ms/step - loss: 0.4341 - accuracy: 0.8427 - val_loss: 0.4773 - val_accuracy: 0.8394\n",
            "Epoch 83/150\n",
            "200/200 [==============================] - 3s 17ms/step - loss: 0.4255 - accuracy: 0.8487 - val_loss: 0.4756 - val_accuracy: 0.8419\n",
            "Epoch 84/150\n",
            "200/200 [==============================] - 4s 17ms/step - loss: 0.4214 - accuracy: 0.8505 - val_loss: 0.4746 - val_accuracy: 0.8425\n",
            "Epoch 85/150\n",
            "200/200 [==============================] - 4s 17ms/step - loss: 0.4161 - accuracy: 0.8547 - val_loss: 0.4756 - val_accuracy: 0.8381\n",
            "Epoch 86/150\n",
            "200/200 [==============================] - 3s 17ms/step - loss: 0.4226 - accuracy: 0.8477 - val_loss: 0.4742 - val_accuracy: 0.8350\n",
            "Epoch 87/150\n",
            "200/200 [==============================] - 3s 16ms/step - loss: 0.4166 - accuracy: 0.8512 - val_loss: 0.4727 - val_accuracy: 0.8400\n",
            "Epoch 88/150\n",
            "200/200 [==============================] - 3s 17ms/step - loss: 0.4054 - accuracy: 0.8559 - val_loss: 0.4718 - val_accuracy: 0.8381\n",
            "Epoch 89/150\n",
            "200/200 [==============================] - 4s 18ms/step - loss: 0.4082 - accuracy: 0.8606 - val_loss: 0.4725 - val_accuracy: 0.8350\n",
            "Epoch 90/150\n",
            "200/200 [==============================] - 3s 17ms/step - loss: 0.3999 - accuracy: 0.8577 - val_loss: 0.4702 - val_accuracy: 0.8381\n",
            "Epoch 91/150\n",
            "200/200 [==============================] - 3s 16ms/step - loss: 0.4022 - accuracy: 0.8573 - val_loss: 0.4706 - val_accuracy: 0.8394\n",
            "Epoch 92/150\n",
            "200/200 [==============================] - 3s 16ms/step - loss: 0.4013 - accuracy: 0.8553 - val_loss: 0.4709 - val_accuracy: 0.8381\n",
            "Epoch 93/150\n",
            "200/200 [==============================] - 3s 17ms/step - loss: 0.3991 - accuracy: 0.8545 - val_loss: 0.4688 - val_accuracy: 0.8394\n",
            "Epoch 94/150\n",
            "200/200 [==============================] - 4s 17ms/step - loss: 0.3939 - accuracy: 0.8570 - val_loss: 0.4683 - val_accuracy: 0.8369\n",
            "Epoch 95/150\n",
            "200/200 [==============================] - 3s 17ms/step - loss: 0.3914 - accuracy: 0.8631 - val_loss: 0.4685 - val_accuracy: 0.8338\n",
            "Epoch 96/150\n",
            "200/200 [==============================] - 4s 18ms/step - loss: 0.3852 - accuracy: 0.8587 - val_loss: 0.4682 - val_accuracy: 0.8331\n",
            "Epoch 97/150\n",
            "200/200 [==============================] - 4s 17ms/step - loss: 0.3867 - accuracy: 0.8625 - val_loss: 0.4673 - val_accuracy: 0.8381\n",
            "Epoch 98/150\n",
            "200/200 [==============================] - 3s 17ms/step - loss: 0.3847 - accuracy: 0.8634 - val_loss: 0.4656 - val_accuracy: 0.8369\n",
            "Epoch 99/150\n",
            "200/200 [==============================] - 3s 17ms/step - loss: 0.3839 - accuracy: 0.8606 - val_loss: 0.4655 - val_accuracy: 0.8375\n",
            "Epoch 100/150\n",
            "200/200 [==============================] - 3s 16ms/step - loss: 0.3687 - accuracy: 0.8781 - val_loss: 0.4668 - val_accuracy: 0.8400\n",
            "Epoch 101/150\n",
            "200/200 [==============================] - 3s 15ms/step - loss: 0.3823 - accuracy: 0.8655 - val_loss: 0.4663 - val_accuracy: 0.8331\n",
            "Epoch 102/150\n",
            "200/200 [==============================] - 3s 16ms/step - loss: 0.3873 - accuracy: 0.8655 - val_loss: 0.4663 - val_accuracy: 0.8388\n",
            "Epoch 103/150\n",
            "200/200 [==============================] - 3s 16ms/step - loss: 0.3803 - accuracy: 0.8681 - val_loss: 0.4652 - val_accuracy: 0.8356\n",
            "Epoch 104/150\n",
            "200/200 [==============================] - 3s 16ms/step - loss: 0.3722 - accuracy: 0.8658 - val_loss: 0.4659 - val_accuracy: 0.8325\n",
            "Epoch 105/150\n",
            "200/200 [==============================] - 3s 15ms/step - loss: 0.3748 - accuracy: 0.8672 - val_loss: 0.4640 - val_accuracy: 0.8388\n",
            "Epoch 106/150\n",
            "200/200 [==============================] - 3s 16ms/step - loss: 0.3668 - accuracy: 0.8705 - val_loss: 0.4636 - val_accuracy: 0.8381\n",
            "Epoch 107/150\n",
            "200/200 [==============================] - 3s 16ms/step - loss: 0.3678 - accuracy: 0.8637 - val_loss: 0.4637 - val_accuracy: 0.8363\n",
            "Epoch 108/150\n",
            "200/200 [==============================] - 3s 15ms/step - loss: 0.3671 - accuracy: 0.8655 - val_loss: 0.4631 - val_accuracy: 0.8406\n",
            "Epoch 109/150\n",
            "200/200 [==============================] - 3s 16ms/step - loss: 0.3611 - accuracy: 0.8753 - val_loss: 0.4625 - val_accuracy: 0.8394\n",
            "Epoch 110/150\n",
            "200/200 [==============================] - 3s 15ms/step - loss: 0.3583 - accuracy: 0.8733 - val_loss: 0.4637 - val_accuracy: 0.8369\n",
            "Epoch 111/150\n",
            "200/200 [==============================] - 3s 17ms/step - loss: 0.3524 - accuracy: 0.8755 - val_loss: 0.4621 - val_accuracy: 0.8369\n",
            "Epoch 112/150\n",
            "200/200 [==============================] - 3s 16ms/step - loss: 0.3577 - accuracy: 0.8708 - val_loss: 0.4614 - val_accuracy: 0.8381\n",
            "Epoch 113/150\n",
            "200/200 [==============================] - 3s 17ms/step - loss: 0.3568 - accuracy: 0.8708 - val_loss: 0.4618 - val_accuracy: 0.8394\n",
            "Epoch 114/150\n",
            "200/200 [==============================] - 3s 17ms/step - loss: 0.3581 - accuracy: 0.8714 - val_loss: 0.4623 - val_accuracy: 0.8381\n",
            "Epoch 115/150\n",
            "200/200 [==============================] - 3s 17ms/step - loss: 0.3442 - accuracy: 0.8798 - val_loss: 0.4616 - val_accuracy: 0.8350\n",
            "Epoch 116/150\n",
            "200/200 [==============================] - 3s 16ms/step - loss: 0.3527 - accuracy: 0.8739 - val_loss: 0.4615 - val_accuracy: 0.8369\n",
            "Epoch 117/150\n",
            "200/200 [==============================] - 3s 17ms/step - loss: 0.3470 - accuracy: 0.8708 - val_loss: 0.4618 - val_accuracy: 0.8350\n",
            "Epoch 118/150\n",
            "200/200 [==============================] - 3s 17ms/step - loss: 0.3476 - accuracy: 0.8753 - val_loss: 0.4624 - val_accuracy: 0.8375\n",
            "Epoch 119/150\n",
            "200/200 [==============================] - 3s 16ms/step - loss: 0.3435 - accuracy: 0.8750 - val_loss: 0.4611 - val_accuracy: 0.8369\n",
            "Epoch 120/150\n",
            "200/200 [==============================] - 3s 17ms/step - loss: 0.3447 - accuracy: 0.8759 - val_loss: 0.4612 - val_accuracy: 0.8388\n",
            "Epoch 121/150\n",
            "200/200 [==============================] - 4s 18ms/step - loss: 0.3386 - accuracy: 0.8784 - val_loss: 0.4612 - val_accuracy: 0.8394\n",
            "Epoch 122/150\n",
            "200/200 [==============================] - 3s 16ms/step - loss: 0.3306 - accuracy: 0.8833 - val_loss: 0.4609 - val_accuracy: 0.8394\n"
          ]
        }
      ]
    },
    {
      "cell_type": "markdown",
      "metadata": {
        "id": "U2whVkMVeIde"
      },
      "source": [
        "####accuracy and loss plot of the model"
      ]
    },
    {
      "cell_type": "code",
      "metadata": {
        "colab": {
          "base_uri": "https://localhost:8080/",
          "height": 530
        },
        "id": "uG_pHvGa81cj",
        "outputId": "79847d38-7174-4aee-832e-82f1fa39b08a"
      },
      "source": [
        "import pandas as pd\n",
        "history_df = pd.DataFrame(history.history)\n",
        "history_df.loc[:, ['loss', 'val_loss']].plot()\n",
        "history_df.loc[:, ['accuracy', 'val_accuracy']].plot()"
      ],
      "execution_count": 140,
      "outputs": [
        {
          "output_type": "execute_result",
          "data": {
            "text/plain": [
              "<matplotlib.axes._subplots.AxesSubplot at 0x7f0943697ed0>"
            ]
          },
          "metadata": {},
          "execution_count": 140
        },
        {
          "output_type": "display_data",
          "data": {
            "image/png": "[encoded data removed]",
            "text/plain": [
              "<Figure size 432x288 with 1 Axes>"
            ]
          },
          "metadata": {
            "needs_background": "light"
          }
        },
        {
          "output_type": "display_data",
          "data": {
            "image/png": "[encoded data removed]",
            "text/plain": [
              "<Figure size 432x288 with 1 Axes>"
            ]
          },
          "metadata": {
            "needs_background": "light"
          }
        }
      ]
    },
    {
      "cell_type": "markdown",
      "metadata": {
        "id": "-qn2gd-leQB2"
      },
      "source": [
        "####evaluate our model on the test set"
      ]
    },
    {
      "cell_type": "code",
      "metadata": {
        "colab": {
          "base_uri": "https://localhost:8080/"
        },
        "id": "US84Immf-khp",
        "outputId": "ed9df1c9-7088-4f04-a6b9-033e544ffb00"
      },
      "source": [
        "loss, accuracy = model.evaluate(test_ds)\n",
        "\n",
        "print(\"Loss: \", loss)\n",
        "print(\"Accuracy: \", accuracy)"
      ],
      "execution_count": 141,
      "outputs": [
        {
          "output_type": "stream",
          "name": "stdout",
          "text": [
            "250/250 [==============================] - 3s 11ms/step - loss: 0.5107 - accuracy: 0.8170\n",
            "Loss:  0.510725200176239\n",
            "Accuracy:  0.8169999718666077\n"
          ]
        }
      ]
    },
    {
      "cell_type": "markdown",
      "metadata": {
        "id": "USN0wbuIezc9"
      },
      "source": [
        "###export the model"
      ]
    },
    {
      "cell_type": "code",
      "metadata": {
        "id": "0J30Oc7-BeBB"
      },
      "source": [
        "prob_model = tf.keras.Sequential([\n",
        "  vectorize_layer,\n",
        "  model,\n",
        "  layers.Softmax()\n",
        "])"
      ],
      "execution_count": 142,
      "outputs": []
    },
    {
      "cell_type": "markdown",
      "metadata": {
        "id": "SddPivXze2pQ"
      },
      "source": [
        "###prediction on test dataset"
      ]
    },
    {
      "cell_type": "code",
      "metadata": {
        "id": "J8_QD64qEaB_"
      },
      "source": [
        "prediction = prob_model.predict(raw_test_ds)"
      ],
      "execution_count": 143,
      "outputs": []
    },
    {
      "cell_type": "code",
      "metadata": {
        "colab": {
          "base_uri": "https://localhost:8080/"
        },
        "id": "UKJNWKXbEfzM",
        "outputId": "2f13e0bc-be41-408e-eb24-9c89ddcc28e6"
      },
      "source": [
        "import numpy as np\n",
        "np.argmax(prediction[0])"
      ],
      "execution_count": 144,
      "outputs": [
        {
          "output_type": "execute_result",
          "data": {
            "text/plain": [
              "3"
            ]
          },
          "metadata": {},
          "execution_count": 144
        }
      ]
    },
    {
      "cell_type": "markdown",
      "metadata": {
        "id": "Ni5Y2a6Ee8iG"
      },
      "source": [
        "####prediction base on the hieghst probability"
      ]
    },
    {
      "cell_type": "code",
      "metadata": {
        "colab": {
          "base_uri": "https://localhost:8080/"
        },
        "id": "to6yluqEE17b",
        "outputId": "10014bf6-2ff0-487d-c515-44c6813d0f50"
      },
      "source": [
        "np.argmax(prediction,axis=1)"
      ],
      "execution_count": 145,
      "outputs": [
        {
          "output_type": "execute_result",
          "data": {
            "text/plain": [
              "array([3, 1, 1, ..., 2, 2, 0])"
            ]
          },
          "metadata": {},
          "execution_count": 145
        }
      ]
    },
    {
      "cell_type": "markdown",
      "metadata": {
        "id": "dtd28z2Sfbrj"
      },
      "source": [
        "####example of this prediction(the language is python)"
      ]
    },
    {
      "cell_type": "code",
      "metadata": {
        "colab": {
          "base_uri": "https://localhost:8080/"
        },
        "id": "7TrXhGi-G-0G",
        "outputId": "af062fda-f342-4674-9b3d-f84aed3a8149"
      },
      "source": [
        "example = [\n",
        "  'i have trouble with this code: def(a,b): return a+b    print(\"hello world\")   if(a==b): print(\"yeey\")'\n",
        "]\n",
        "\n",
        "prob_model.predict(example)"
      ],
      "execution_count": 148,
      "outputs": [
        {
          "output_type": "execute_result",
          "data": {
            "text/plain": [
              "array([[0.17116053, 0.21818301, 0.2263149 , 0.3843416 ]], dtype=float32)"
            ]
          },
          "metadata": {},
          "execution_count": 148
        }
      ]
    },
    {
      "cell_type": "code",
      "metadata": {
        "colab": {
          "base_uri": "https://localhost:8080/",
          "height": 35
        },
        "id": "bv79JCSif7mv",
        "outputId": "88764334-576b-4077-90c3-f86e12adef40"
      },
      "source": [
        "raw_train_ds.class_names[3]"
      ],
      "execution_count": 149,
      "outputs": [
        {
          "output_type": "execute_result",
          "data": {
            "application/vnd.google.colaboratory.intrinsic+json": {
              "type": "string"
            },
            "text/plain": [
              "'python'"
            ]
          },
          "metadata": {},
          "execution_count": 149
        }
      ]
    },
    {
      "cell_type": "markdown",
      "metadata": {
        "id": "BJz1jrAJfnAB"
      },
      "source": [
        "##we can see the hieghst probability is at index 3 which is python"
      ]
    },
    {
      "cell_type": "code",
      "metadata": {
        "id": "M5XsactSIJfI"
      },
      "source": [
        ""
      ],
      "execution_count": null,
      "outputs": []
    }
  ]
}